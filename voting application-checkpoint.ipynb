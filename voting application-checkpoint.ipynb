{
 "cells": [
  {
   "cell_type": "code",
   "execution_count": 1,
   "metadata": {},
   "outputs": [
    {
     "name": "stdout",
     "output_type": "stream",
     "text": [
      "\n",
      "how tall are you: 5'5\"\n",
      "5'5\"\n"
     ]
    }
   ],
   "source": [
    "height = input('\\nhow tall are you: ')\n",
    "\n",
    "print (height)"
   ]
  },
  {
   "cell_type": "code",
   "execution_count": 7,
   "metadata": {},
   "outputs": [
    {
     "name": "stdout",
     "output_type": "stream",
     "text": [
      "\n",
      "how tall are you: 6\n",
      "6\n",
      "\n",
      " eligiable\n"
     ]
    }
   ],
   "source": [
    "height = input('\\nhow tall are you: ')\n",
    "\n",
    "print (height)\n",
    "height = int(height)\n",
    "if height >= 5:\n",
    "    print('\\n eligiable')\n",
    "else:\n",
    "    print('\\n not eligable')"
   ]
  },
  {
   "cell_type": "code",
   "execution_count": 11,
   "metadata": {},
   "outputs": [
    {
     "name": "stdout",
     "output_type": "stream",
     "text": [
      "\n",
      "how old are you: 23\n",
      "23\n",
      "\n",
      " eligiable\n"
     ]
    }
   ],
   "source": [
    "age = input('\\nhow old are you: ')\n",
    "\n",
    "print (age)\n",
    "age = int(age)\n",
    "if age >= 18 :\n",
    "    print('\\n eligiable')\n",
    "else:\n",
    "    print('\\n not eligable')"
   ]
  },
  {
   "cell_type": "code",
   "execution_count": null,
   "metadata": {},
   "outputs": [],
   "source": []
  }
 ],
 "metadata": {
  "kernelspec": {
   "display_name": "Python 3",
   "language": "python",
   "name": "python3"
  },
  "language_info": {
   "codemirror_mode": {
    "name": "ipython",
    "version": 3
   },
   "file_extension": ".py",
   "mimetype": "text/x-python",
   "name": "python",
   "nbconvert_exporter": "python",
   "pygments_lexer": "ipython3",
   "version": "3.7.6"
  }
 },
 "nbformat": 4,
 "nbformat_minor": 4
}
